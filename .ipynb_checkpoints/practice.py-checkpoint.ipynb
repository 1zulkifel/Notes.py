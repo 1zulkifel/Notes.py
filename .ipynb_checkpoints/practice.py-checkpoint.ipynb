{
 "cells": [
  {
   "cell_type": "code",
   "execution_count": 27,
   "metadata": {},
   "outputs": [
    {
     "name": "stdout",
     "output_type": "stream",
     "text": [
      "1 well come to bambor\n"
     ]
    }
   ],
   "source": [
    "cities= [ \"chitral\",\"drosh\",\"bambor\",\"kalka\",\"berir\"]\n",
    "print(1,'well come to ' + cities[-3])"
   ]
  },
  {
   "cell_type": "code",
   "execution_count": 30,
   "metadata": {},
   "outputs": [
    {
     "name": "stdout",
     "output_type": "stream",
     "text": [
      "['chitral', 'drosh', 'bambor', 'kalka', 'berir', 'kesu', 'kesu']\n"
     ]
    }
   ],
   "source": [
    "cities.append(\"kesu\")\n",
    "print(cities)"
   ]
  },
  {
   "cell_type": "code",
   "execution_count": 32,
   "metadata": {},
   "outputs": [
    {
     "name": "stdout",
     "output_type": "stream",
     "text": [
      "['chitral', 'drosh', 'bambor', 'kalam', 'kalka', 'berir', 'kesu', 'kesu']\n"
     ]
    }
   ],
   "source": [
    "cities.insert(3,\"kalam\")\n",
    "print(cities)"
   ]
  },
  {
   "cell_type": "code",
   "execution_count": 37,
   "metadata": {},
   "outputs": [
    {
     "name": "stdout",
     "output_type": "stream",
     "text": [
      "['chitral', 'drosh', 'bambor', 'kalam', 'peshawr', 'peshawr', 'kalka', 'berir', 'kesu', 'kesu']\n"
     ]
    }
   ],
   "source": [
    "cities.insert(-4,\"peshawr\")\n",
    "print(cities)"
   ]
  },
  {
   "cell_type": "code",
   "execution_count": 38,
   "metadata": {},
   "outputs": [
    {
     "name": "stdout",
     "output_type": "stream",
     "text": [
      "['chitral', 'drosh', 'bambor', 'kalash', 'peshawr', 'peshawr', 'kalka', 'berir', 'kesu', 'kesu']\n"
     ]
    }
   ],
   "source": [
    "cities[3]=\"kalash\"\n",
    "print(cities)"
   ]
  },
  {
   "cell_type": "code",
   "execution_count": 45,
   "metadata": {},
   "outputs": [
    {
     "name": "stdout",
     "output_type": "stream",
     "text": [
      "['chitral', 'drosh', 'peshawr', 'peshawr', 'kalka', 'berir', 'kesu', 'kesu']\n"
     ]
    }
   ],
   "source": [
    "del cities[2]\n",
    "print(cities)"
   ]
  },
  {
   "cell_type": "code",
   "execution_count": 56,
   "metadata": {},
   "outputs": [
    {
     "ename": "SyntaxError",
     "evalue": "invalid syntax (<ipython-input-56-bbeed3ac5b46>, line 1)",
     "output_type": "error",
     "traceback": [
      "\u001b[1;36m  File \u001b[1;32m\"<ipython-input-56-bbeed3ac5b46>\"\u001b[1;36m, line \u001b[1;32m1\u001b[0m\n\u001b[1;33m    cities.remove('peshawr'2)\u001b[0m\n\u001b[1;37m                           ^\u001b[0m\n\u001b[1;31mSyntaxError\u001b[0m\u001b[1;31m:\u001b[0m invalid syntax\n"
     ]
    }
   ],
   "source": [
    "cities.remove('peshawr')\n",
    "print(cities)"
   ]
  },
  {
   "cell_type": "code",
   "execution_count": 61,
   "metadata": {},
   "outputs": [
    {
     "name": "stdout",
     "output_type": "stream",
     "text": [
      "['chitral', 'kalka', 'berir', 'kesu']\n"
     ]
    }
   ],
   "source": [
    "task=cities.pop(3)\n",
    "print(cities)"
   ]
  },
  {
   "cell_type": "code",
   "execution_count": 63,
   "metadata": {},
   "outputs": [
    {
     "name": "stdout",
     "output_type": "stream",
     "text": [
      "['chitral', 'kalka', 'berir', 'kesu', 'peshwr']\n"
     ]
    }
   ],
   "source": [
    "cities.append(\"peshwr\")\n",
    "print(cities)"
   ]
  },
  {
   "cell_type": "code",
   "execution_count": 65,
   "metadata": {},
   "outputs": [
    {
     "name": "stdout",
     "output_type": "stream",
     "text": [
      "['chitral', 'kalka', 'berir', 'kalam', 'kalam', 'kesu', 'peshwr']\n"
     ]
    }
   ],
   "source": [
    "cities.insert(3,\"kalam\")\n",
    "print(cities)"
   ]
  },
  {
   "cell_type": "code",
   "execution_count": 70,
   "metadata": {},
   "outputs": [
    {
     "name": "stdout",
     "output_type": "stream",
     "text": [
      "['chitral', 'kalam', 'kalam', 'kesu', 'peshwr']\n"
     ]
    }
   ],
   "source": [
    "del cities[-5]\n",
    "print(cities)"
   ]
  },
  {
   "cell_type": "code",
   "execution_count": 73,
   "metadata": {},
   "outputs": [
    {
     "name": "stdout",
     "output_type": "stream",
     "text": [
      "['chitral', 'kalam', 'kalam']\n"
     ]
    }
   ],
   "source": [
    "cities.pop(3,)\n",
    "print(cities)"
   ]
  },
  {
   "cell_type": "code",
   "execution_count": 83,
   "metadata": {},
   "outputs": [
    {
     "ename": "AttributeError",
     "evalue": "'str' object has no attribute 'insert'",
     "output_type": "error",
     "traceback": [
      "\u001b[1;31m---------------------------------------------------------------------------\u001b[0m",
      "\u001b[1;31mAttributeError\u001b[0m                            Traceback (most recent call last)",
      "\u001b[1;32m<ipython-input-83-9947f36bf535>\u001b[0m in \u001b[0;36m<module>\u001b[1;34m()\u001b[0m\n\u001b[1;32m----> 1\u001b[1;33m \u001b[0mnewcity\u001b[0m\u001b[1;33m.\u001b[0m\u001b[0minsert\u001b[0m\u001b[1;33m(\u001b[0m\u001b[1;36m2\u001b[0m\u001b[1;33m,\u001b[0m\u001b[0mpop\u001b[0m\u001b[1;33m(\u001b[0m\u001b[1;36m1\u001b[0m\u001b[1;33m)\u001b[0m\u001b[1;33m)\u001b[0m\u001b[1;33m\u001b[0m\u001b[0m\n\u001b[0m\u001b[0;32m      2\u001b[0m \u001b[0mprint\u001b[0m\u001b[1;33m(\u001b[0m\u001b[0mnewcity\u001b[0m\u001b[1;33m)\u001b[0m\u001b[1;33m\u001b[0m\u001b[0m\n",
      "\u001b[1;31mAttributeError\u001b[0m: 'str' object has no attribute 'insert'"
     ]
    }
   ],
   "source": [
    "newcity.insert(2,pop(1))\n",
    "print(newcity)"
   ]
  },
  {
   "cell_type": "code",
   "execution_count": 84,
   "metadata": {},
   "outputs": [
    {
     "name": "stdout",
     "output_type": "stream",
     "text": [
      "['chitral', 'drosh', 'bambor', 'kalka', 'berir']\n"
     ]
    }
   ],
   "source": [
    "cities= [ \"chitral\",\"drosh\",\"bambor\",\"kalka\",\"berir\"]\n",
    "print(cities)"
   ]
  },
  {
   "cell_type": "code",
   "execution_count": 85,
   "metadata": {},
   "outputs": [
    {
     "name": "stdout",
     "output_type": "stream",
     "text": [
      "('chitral', 'drosh', 'bambor', 'kalka', 'berir')\n"
     ]
    }
   ],
   "source": [
    "cities= ( \"chitral\",\"drosh\",\"bambor\",\"kalka\",\"berir\")\n",
    "print(cities)"
   ]
  },
  {
   "cell_type": "code",
   "execution_count": 86,
   "metadata": {},
   "outputs": [
    {
     "name": "stdout",
     "output_type": "stream",
     "text": [
      "kalka\n"
     ]
    }
   ],
   "source": [
    "newcty= cities[3]\n",
    "print(newcty)"
   ]
  },
  {
   "cell_type": "code",
   "execution_count": 88,
   "metadata": {},
   "outputs": [
    {
     "name": "stdout",
     "output_type": "stream",
     "text": [
      "bambor\n"
     ]
    }
   ],
   "source": [
    "newcty=cities[2]\n",
    "print(newcty)"
   ]
  },
  {
   "cell_type": "code",
   "execution_count": 1,
   "metadata": {},
   "outputs": [],
   "source": [
    "#Loop through the tuple. If one of the elements has the same value as my_street, display \"yes\"\n",
    "\n",
    "   \n"
   ]
  },
  {
   "cell_type": "code",
   "execution_count": 2,
   "metadata": {},
   "outputs": [
    {
     "name": "stdout",
     "output_type": "stream",
     "text": [
      "move on..\n",
      "move on..\n",
      "move on..\n",
      "well come to home land\n"
     ]
    }
   ],
   "source": [
    "#finding city using for loop\n",
    "my_city=\"kalka\"\n",
    "cities= ( \"chitral\",\"drosh\",\"bambor\",\"kalka\",\"berir\")\n",
    "for a_city in cities:\n",
    "    if a_city==my_city:\n",
    "        print(\"well come to home land\")\n",
    "        break\n",
    "    else:\n",
    "        print(\"move on..\")\n"
   ]
  },
  {
   "cell_type": "code",
   "execution_count": 101,
   "metadata": {},
   "outputs": [
    {
     "name": "stdout",
     "output_type": "stream",
     "text": [
      "move on\n",
      "move on\n",
      "move on\n",
      "go to home\n",
      "move on\n"
     ]
    }
   ],
   "source": [
    "my_street = \"Main\"\n",
    "streets = (\"Elm\", \"Walnut\", \"Center\", \"Main\", \"Front\")\n",
    "for sttr in streets:\n",
    "    if sttr == my_street:\n",
    "        print('go to home')\n",
    "    else:\n",
    "        print(\"move on\")\n",
    "        "
   ]
  },
  {
   "cell_type": "code",
   "execution_count": 20,
   "metadata": {},
   "outputs": [
    {
     "name": "stdout",
     "output_type": "stream",
     "text": [
      "drosh\n",
      "['bambor']\n"
     ]
    }
   ],
   "source": [
    "er=[]\n",
    "cities= (\"chitral\",\"drosh\",\"bambor\")\n",
    "for i in cities:\n",
    "    if i == \"drosh\":\n",
    "        print(i)\n",
    "        er.append(i)\n",
    "print(er)"
   ]
  },
  {
   "cell_type": "code",
   "execution_count": 19,
   "metadata": {},
   "outputs": [
    {
     "ename": "AttributeError",
     "evalue": "'tuple' object has no attribute 'pop'",
     "output_type": "error",
     "traceback": [
      "\u001b[1;31m---------------------------------------------------------------------------\u001b[0m",
      "\u001b[1;31mAttributeError\u001b[0m                            Traceback (most recent call last)",
      "\u001b[1;32m<ipython-input-19-688d9cd99d32>\u001b[0m in \u001b[0;36m<module>\u001b[1;34m()\u001b[0m\n\u001b[0;32m      1\u001b[0m \u001b[0mcities\u001b[0m\u001b[1;33m=\u001b[0m \u001b[1;33m(\u001b[0m \u001b[1;34m\"chitral\"\u001b[0m\u001b[1;33m,\u001b[0m\u001b[1;34m\"drosh\"\u001b[0m\u001b[1;33m,\u001b[0m\u001b[1;34m\"bambor\"\u001b[0m\u001b[1;33m,\u001b[0m\u001b[1;34m\"kalka\"\u001b[0m\u001b[1;33m,\u001b[0m\u001b[1;34m\"berir\"\u001b[0m\u001b[1;33m)\u001b[0m\u001b[1;33m\u001b[0m\u001b[0m\n\u001b[1;32m----> 2\u001b[1;33m \u001b[0mnew_city\u001b[0m\u001b[1;33m=\u001b[0m\u001b[0mcities\u001b[0m\u001b[1;33m.\u001b[0m\u001b[0mpop\u001b[0m\u001b[1;33m(\u001b[0m\u001b[1;36m1\u001b[0m\u001b[1;33m)\u001b[0m\u001b[1;33m\u001b[0m\u001b[0m\n\u001b[0m\u001b[0;32m      3\u001b[0m \u001b[0mprint\u001b[0m\u001b[1;33m(\u001b[0m\u001b[0mnew_city\u001b[0m\u001b[1;33m)\u001b[0m\u001b[1;33m\u001b[0m\u001b[0m\n",
      "\u001b[1;31mAttributeError\u001b[0m: 'tuple' object has no attribute 'pop'"
     ]
    }
   ],
   "source": [
    "cities= ( \"chitral\",\"drosh\",\"bambor\",\"kalka\",\"berir\")\n",
    "new_city=cities.pop(1)\n",
    "print(new_city)"
   ]
  },
  {
   "cell_type": "code",
   "execution_count": 9,
   "metadata": {},
   "outputs": [
    {
     "ename": "AttributeError",
     "evalue": "'str' object has no attribute 'append'",
     "output_type": "error",
     "traceback": [
      "\u001b[1;31m---------------------------------------------------------------------------\u001b[0m",
      "\u001b[1;31mAttributeError\u001b[0m                            Traceback (most recent call last)",
      "\u001b[1;32m<ipython-input-9-7a717ac5ea7d>\u001b[0m in \u001b[0;36m<module>\u001b[1;34m()\u001b[0m\n\u001b[1;32m----> 1\u001b[1;33m \u001b[0mnew_city\u001b[0m\u001b[1;33m.\u001b[0m\u001b[0mappend\u001b[0m\u001b[1;33m(\u001b[0m\u001b[0mcities\u001b[0m\u001b[1;33m.\u001b[0m\u001b[0mpop\u001b[0m\u001b[1;33m(\u001b[0m\u001b[1;36m1\u001b[0m\u001b[1;33m)\u001b[0m\u001b[1;33m)\u001b[0m\u001b[1;33m\u001b[0m\u001b[0m\n\u001b[0m",
      "\u001b[1;31mAttributeError\u001b[0m: 'str' object has no attribute 'append'"
     ]
    }
   ],
   "source": [
    "new_city.append(cities.pop(1))"
   ]
  },
  {
   "cell_type": "code",
   "execution_count": 36,
   "metadata": {},
   "outputs": [
    {
     "ename": "AttributeError",
     "evalue": "'str' object has no attribute 'int'",
     "output_type": "error",
     "traceback": [
      "\u001b[1;31m---------------------------------------------------------------------------\u001b[0m",
      "\u001b[1;31mAttributeError\u001b[0m                            Traceback (most recent call last)",
      "\u001b[1;32m<ipython-input-36-bc541be94d31>\u001b[0m in \u001b[0;36m<module>\u001b[1;34m()\u001b[0m\n\u001b[1;32m----> 1\u001b[1;33m \u001b[0mrandom\u001b[0m\u001b[1;33m.\u001b[0m\u001b[0mint\u001b[0m\u001b[1;33m(\u001b[0m\u001b[1;36m5\u001b[0m\u001b[1;33m,\u001b[0m \u001b[1;36m11\u001b[0m\u001b[1;33m,\u001b[0m \u001b[1;36m1\u001b[0m\u001b[1;33m)\u001b[0m\u001b[1;33m\u001b[0m\u001b[0m\n\u001b[0m",
      "\u001b[1;31mAttributeError\u001b[0m: 'str' object has no attribute 'int'"
     ]
    }
   ],
   "source": [
    "random.int(5, 11, 1)\n"
   ]
  },
  {
   "cell_type": "code",
   "execution_count": 46,
   "metadata": {},
   "outputs": [
    {
     "name": "stdout",
     "output_type": "stream",
     "text": [
      "['a e', 'a h', 'a i', 'a j', 'b e', 'b h', 'b i', 'b j', 'c e', 'c h', 'c i', 'c j', 'd e', 'd h', 'd i', 'd j']\n"
     ]
    }
   ],
   "source": [
    "frstnme=[\"a\",\"b\",\"c\",\"d\"]\n",
    "lstnme=[\"e\",\"h\",\"i\",\"j\"]\n",
    "flnme=[]\n",
    "for a_frstnme in frstnme:\n",
    "    for a_lstnme in lstnme:\n",
    "        flnme.append(a_frstnme+ \" \"+a_lstnme)\n",
    "print(flnme)\n"
   ]
  },
  {
   "cell_type": "code",
   "execution_count": 4,
   "metadata": {},
   "outputs": [
    {
     "name": "stdout",
     "output_type": "stream",
     "text": [
      "['5', '6', '7', '8', '9']\n",
      "['5', '6', '7', '8', '9']\n",
      "['5', '6', '7', '8', '9']\n",
      "['5', '6', '7', '8', '9']\n",
      "['5', '6', '7', '8', '9']\n",
      "['15', '16', '17', '18', '19']\n",
      "['5', '6', '7', '8', '9']\n",
      "['5', '6', '7', '8', '9']\n",
      "['5', '6', '7', '8', '9']\n",
      "['5', '6', '7', '8', '9']\n",
      "['5', '6', '7', '8', '9']\n",
      "['15', '16', '17', '18', '19', '25', '26', '27', '28', '29']\n"
     ]
    }
   ],
   "source": [
    "istnmb=['1','2']\n",
    "scndnm=['5','6','7','8','9']\n",
    "tltl=[]\n",
    "for a_stnmb in istnmb:\n",
    "    for b_stnmb in scndnm:\n",
    "        tltl.append(a_stnmb+ b_stnmb)\n",
    "        print(scndnm  )\n",
    "    print(tltl)\n",
    "\n",
    "    "
   ]
  },
  {
   "cell_type": "code",
   "execution_count": 5,
   "metadata": {},
   "outputs": [
    {
     "name": "stdout",
     "output_type": "stream",
     "text": [
      "your wage is:  33\n"
     ]
    }
   ],
   "source": [
    "min_wage=33\n",
    "min_wage=str (min_wage)\n",
    "print(\"your wage is: \",min_wage)"
   ]
  },
  {
   "cell_type": "code",
   "execution_count": 9,
   "metadata": {},
   "outputs": [
    {
     "name": "stdout",
     "output_type": "stream",
     "text": [
      "enter city name: chitral\n",
      "your city is :  chitral\n"
     ]
    }
   ],
   "source": [
    "city_tocheck=input(\"enter city name: \")\n",
    "city_tocheck=city_tocheck.lower()\n",
    "cities= [ \"chitral\",\"drosh\",\"bambor\",\"kalka\",\"berir\"]\n",
    "for city in cities:\n",
    "    if city_tocheck==city:\n",
    "        print( \"your city is : \",city )\n",
    "    break\n",
    "city_tocheck=city_tocheck.title()"
   ]
  },
  {
   "cell_type": "code",
   "execution_count": 9,
   "metadata": {},
   "outputs": [
    {
     "name": "stdout",
     "output_type": "stream",
     "text": [
      "['call ali', 'mail to sher', 'go to school', 'jump to well', 'travel alone', 'laugh loud']\n"
     ]
    }
   ],
   "source": [
    "task = ['call ali', 'mail to sher','go to school','travel alone','laugh loud']\n",
    "task.insert(3,'jump to well')\n",
    "print(task)"
   ]
  },
  {
   "cell_type": "code",
   "execution_count": 31,
   "metadata": {},
   "outputs": [
    {
     "data": {
      "text/plain": [
       "['new name']"
      ]
     },
     "execution_count": 31,
     "metadata": {},
     "output_type": "execute_result"
    }
   ],
   "source": [
    "task.append('new name')\n",
    "task\n",
    "task.pop(5)\n",
    "remain_task=[]\n",
    "remain_task.append(task.pop(5))\n",
    "remain_task"
   ]
  },
  {
   "cell_type": "code",
   "execution_count": null,
   "metadata": {},
   "outputs": [],
   "source": []
  }
 ],
 "metadata": {
  "kernelspec": {
   "display_name": "Python 3",
   "language": "python",
   "name": "python3"
  },
  "language_info": {
   "codemirror_mode": {
    "name": "ipython",
    "version": 3
   },
   "file_extension": ".py",
   "mimetype": "text/x-python",
   "name": "python",
   "nbconvert_exporter": "python",
   "pygments_lexer": "ipython3",
   "version": "3.7.0"
  }
 },
 "nbformat": 4,
 "nbformat_minor": 2
}
