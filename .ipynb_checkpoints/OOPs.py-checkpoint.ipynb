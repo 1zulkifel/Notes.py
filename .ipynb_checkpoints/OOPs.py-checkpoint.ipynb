{
 "cells": [
  {
   "cell_type": "code",
   "execution_count": 1,
   "metadata": {},
   "outputs": [],
   "source": [
    "# create object\n",
    "class car:\n",
    "    pass"
   ]
  },
  {
   "cell_type": "code",
   "execution_count": 12,
   "metadata": {},
   "outputs": [
    {
     "name": "stdout",
     "output_type": "stream",
     "text": [
      "ramzan khan chakwal 4500\n",
      "zulkifel ahmad islamabad 45000\n"
     ]
    }
   ],
   "source": [
    "class Employe:\n",
    "    def __init__ (self,fname,lname,empaddress,salary): ## constructor \n",
    "        self.fname=fname\n",
    "        self.lname=lname\n",
    "        self.empaddress=empaddress\n",
    "        self.salary=salary\n",
    "        \n",
    "\n",
    "zulkifel=Employe('zulkifel','ahmad','islamabad',45000)\n",
    "ramzan=Employe('ramzan','khan','chakwal',4500)\n",
    "\n",
    "print(ramzan.fname,ramzan.lname,ramzan.empaddress,ramzan.salary)\n",
    "print(zulkifel.fname,zulkifel.lname,zulkifel.empaddress,zulkifel.salary)\n",
    "        \n",
    "        "
   ]
  },
  {
   "cell_type": "code",
   "execution_count": 44,
   "metadata": {},
   "outputs": [
    {
     "name": "stdout",
     "output_type": "stream",
     "text": [
      "zulkifel islamabad 45000\n",
      "54000.0\n",
      "zulkifel islamabad 54000.0\n",
      "2\n",
      "ramzan 32000\n",
      "ramzan 38400.0\n",
      "2\n",
      "{'fname': 'zulkifel', 'lname': 'ahmad', 'empaddress': 'islamabad', 'salary': 54000.0, 'increment': 3}\n",
      "{'__module__': '__main__', 'increment': 1.2, 'no_of_employes': 2, '__init__': <function Employe.__init__ at 0x0000029B5458ED08>, 'increase': <function Employe.increase at 0x0000029B5458EF28>, '__dict__': <attribute '__dict__' of 'Employe' objects>, '__weakref__': <attribute '__weakref__' of 'Employe' objects>, '__doc__': None}\n"
     ]
    }
   ],
   "source": [
    "#instance and class variable . \n",
    "class Employe:\n",
    "    increment=1.2\n",
    "    no_of_employes=0\n",
    "    def __init__ (self,fname,lname,empaddress,salary): ## constructor \n",
    "        self.fname=fname\n",
    "        self.lname=lname\n",
    "        self.empaddress=empaddress  # instance variables\n",
    "        self.salary=salary\n",
    "        Employe.no_of_employes +=1\n",
    "    def increase (self):\n",
    "        self.salary=self.salary*Employe.increment\n",
    "        \n",
    "\n",
    "zulkifel=Employe('zulkifel','ahmad','islamabad',45000) \n",
    "ramzan=Employe('ramzan','niazi','chakwal',32000)\n",
    "\n",
    "print(zulkifel.fname,zulkifel.empaddress,zulkifel.salary)\n",
    "zulkifel.increase()\n",
    "zulkifel.increment=3 # it becomes zulkifel variable\n",
    "print(zulkifel.salary)\n",
    "print(zulkifel.fname,zulkifel.empaddress,zulkifel.salary)\n",
    "print (Employe.no_of_employes)\n",
    "print(ramzan.fname,ramzan.salary)\n",
    "ramzan.increase() # after this it will print the increment in salary\n",
    "print(ramzan.fname,ramzan.salary)\n",
    "print (Employe.no_of_employes) # for counting the number of employes\n",
    "\n",
    "print(zulkifel.__dict__) # variables of zulkifel \n",
    "print(Employe.__dict__)  # variables of class\n",
    "\n",
    "\n",
    "\n",
    "\n"
   ]
  },
  {
   "cell_type": "code",
   "execution_count": 64,
   "metadata": {},
   "outputs": [
    {
     "name": "stdout",
     "output_type": "stream",
     "text": [
      "22400\n",
      "ali 67200\n",
      "13500\n",
      "khan 27000\n",
      "wali 120\n",
      "wali 240\n"
     ]
    }
   ],
   "source": [
    "# class method\n",
    "class Employe:\n",
    "    increment=1.7\n",
    "    no_of_employes=0\n",
    "    def __init__(self,fname,lname,salary):\n",
    "        self.fname=fname\n",
    "        self.lname=lname\n",
    "        self.salary=salary\n",
    "    def increase(self):\n",
    "        self.salary=int(self.salary*Employe.increment)\n",
    "   \n",
    "    @classmethod #decurator it tells us it is class method.\n",
    "    def change_increment(cls,amount):\n",
    "        cls.increment=amount\n",
    "        \n",
    "ali=Employe('ali','sher',22400)\n",
    "khan=Employe('khan','gul',13500)\n",
    "wali=Employe('wali','shah',120)\n",
    "print(ali.salary)\n",
    "Employe.change_increment(3)\n",
    "ali.increase()\n",
    "print(ali.fname,ali.salary)\n",
    "\n",
    "print(khan.salary)\n",
    "Employe.change_increment(2)\n",
    "khan.increase()\n",
    "print(khan.fname,khan.salary)\n",
    "\n",
    "print(wali.fname,wali.salary)\n",
    "wali.increase()\n",
    "print(wali.fname,wali.salary)\n",
    "\n",
    "        "
   ]
  },
  {
   "cell_type": "code",
   "execution_count": 95,
   "metadata": {},
   "outputs": [
    {
     "name": "stdout",
     "output_type": "stream",
     "text": [
      "shahir sadeed\n",
      "pari 2210\n",
      "ali 2213\n"
     ]
    },
    {
     "data": {
      "text/plain": [
       "{'fname': 'ali', 'lname': 'khan', 'salary': '2213'}"
      ]
     },
     "execution_count": 95,
     "metadata": {},
     "output_type": "execute_result"
    }
   ],
   "source": [
    "#Class Methods As Alternative Constructor\n",
    "class Employe:\n",
    "    \n",
    "    increment=3\n",
    "    no_of_employe=0\n",
    "    def __init__(self,fname,lname,salary):\n",
    "        self.fname=fname\n",
    "        self.lname=lname\n",
    "        self.salary=salary\n",
    "        Employe.no_of_employe +=1\n",
    "    def increase(self):\n",
    "        self.salary= self.salary*Employe.increment\n",
    "        \n",
    "    @classmethod\n",
    "    def from_str(cls,emp_string):\n",
    "        fname,lname,salary=emp_string.split(\"-\")\n",
    "        return cls(fname,lname,salary)\n",
    "\n",
    "shahir=Employe('shahir','sadeed',2210)\n",
    "print(shahir.fname,shahir.lname)\n",
    "pari=Employe('pari','shay',2210)\n",
    "print(pari.fname,pari.salary)\n",
    "meer=Employe.from_str (\"ali-khan-2213\")\n",
    "print(meer.fname,meer.salary)\n",
    "meer.__dict__\n",
    "\n",
    "\n"
   ]
  },
  {
   "cell_type": "code",
   "execution_count": 116,
   "metadata": {},
   "outputs": [
    {
     "name": "stdout",
     "output_type": "stream",
     "text": [
      "False\n"
     ]
    }
   ],
   "source": [
    "#static method in oops\n",
    "class Employe:\n",
    "    \n",
    "    increment=3\n",
    "    no_of_employe=0\n",
    "    def __init__(self,fname,lname,salary):\n",
    "        self.fname=fname\n",
    "        self.lname=lname\n",
    "        self.salary=salary\n",
    "        Employe.no_of_employe +=1\n",
    "    def increase(self):\n",
    "        self.salary= self.salary*Employe.increment\n",
    "   \n",
    "    @staticmethod      # used for independent functions \n",
    "    def isopen(day):\n",
    "        if day == \"sunday\":\n",
    "           \n",
    "            return False\n",
    "        else:\n",
    "           \n",
    "            return True\n",
    "        \n",
    "\n",
    "print(Employe.isopen('sunday'))\n",
    "   "
   ]
  },
  {
   "cell_type": "code",
   "execution_count": 9,
   "metadata": {},
   "outputs": [
    {
     "name": "stdout",
     "output_type": "stream",
     "text": [
      "zulkifel ahmad professional 10 years\n",
      "Help on class Management in module __main__:\n",
      "\n",
      "class Management(Employe)\n",
      " |  Management(fname, lname, salary, mgmskill, exp)\n",
      " |  \n",
      " |  Method resolution order:\n",
      " |      Management\n",
      " |      Employe\n",
      " |      builtins.object\n",
      " |  \n",
      " |  Methods defined here:\n",
      " |  \n",
      " |  __init__(self, fname, lname, salary, mgmskill, exp)\n",
      " |      Initialize self.  See help(type(self)) for accurate signature.\n",
      " |  \n",
      " |  increase(self)\n",
      " |  \n",
      " |  ----------------------------------------------------------------------\n",
      " |  Data descriptors inherited from Employe:\n",
      " |  \n",
      " |  __dict__\n",
      " |      dictionary for instance variables (if defined)\n",
      " |  \n",
      " |  __weakref__\n",
      " |      list of weak references to the object (if defined)\n",
      " |  \n",
      " |  ----------------------------------------------------------------------\n",
      " |  Data and other attributes inherited from Employe:\n",
      " |  \n",
      " |  increment = 3\n",
      " |  \n",
      " |  no_of_employe = 1\n",
      "\n",
      "None\n"
     ]
    }
   ],
   "source": [
    "#Inheritance In Python oops\n",
    "class Employe:\n",
    "    \n",
    "    increment=3\n",
    "    no_of_employe=0\n",
    "    def __init__(self,fname,lname,salary):\n",
    "        self.fname=fname\n",
    "        self.lname=lname\n",
    "        self.salary=salary\n",
    "        Employe.no_of_employe +=1\n",
    "    def increase(self):\n",
    "        self.salary= self.salary*Employe.increment\n",
    "class Management(Employe):\n",
    "        def __init__(self,fname,lname,salary,mgmskill,exp):\n",
    "            super().__init__(fname,lname,salary)\n",
    "            self.mgmskill=mgmskill\n",
    "            self.exp=exp\n",
    "        \n",
    "        def increase(self):\n",
    "            self.salary=int(self.salary(self.increment+0.2))\n",
    "\n",
    "zulkifel=Management('zulkifel','ahmad',50000,'professional','10 years')\n",
    "print(zulkifel.fname,zulkifel.lname,zulkifel.mgmskill,zulkifel.exp)\n",
    "print(help(Management))\n",
    "            \n"
   ]
  },
  {
   "cell_type": "code",
   "execution_count": null,
   "metadata": {},
   "outputs": [],
   "source": []
  }
 ],
 "metadata": {
  "kernelspec": {
   "display_name": "Python 3",
   "language": "python",
   "name": "python3"
  },
  "language_info": {
   "codemirror_mode": {
    "name": "ipython",
    "version": 3
   },
   "file_extension": ".py",
   "mimetype": "text/x-python",
   "name": "python",
   "nbconvert_exporter": "python",
   "pygments_lexer": "ipython3",
   "version": "3.7.0"
  }
 },
 "nbformat": 4,
 "nbformat_minor": 2
}
