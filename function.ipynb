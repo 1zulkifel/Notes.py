{
 "cells": [
  {
   "cell_type": "code",
   "execution_count": 4,
   "metadata": {},
   "outputs": [
    {
     "name": "stdout",
     "output_type": "stream",
     "text": [
      "9\n"
     ]
    }
   ],
   "source": [
    "def num(x,y,z): #name\n",
    "    your_num=(x+y+z)   #body\n",
    "    return(your_num)\n",
    "num1=num(2,3,4) #call funtion\n",
    "print(num1)"
   ]
  },
  {
   "cell_type": "code",
   "execution_count": 6,
   "metadata": {},
   "outputs": [
    {
     "name": "stdout",
     "output_type": "stream",
     "text": [
      "name\n",
      "ali\n"
     ]
    }
   ],
   "source": [
    "# non return function\n",
    "def vab():\n",
    "    print(\"name\")\n",
    "    print(\"ali\")\n",
    "nm= vab()\n"
   ]
  },
  {
   "cell_type": "code",
   "execution_count": 7,
   "metadata": {},
   "outputs": [
    {
     "name": "stdout",
     "output_type": "stream",
     "text": [
      "15.0\n"
     ]
    }
   ],
   "source": [
    "#key word arguments\n",
    "def num(x,y,z): #name\n",
    "    add=(x+y+z)   #body\n",
    "    avg=add/3\n",
    "    return(avg)\n",
    "num1=num(x=15,y=15,z=15) #call funtion\n",
    "print(num1)"
   ]
  },
  {
   "cell_type": "code",
   "execution_count": 5,
   "metadata": {},
   "outputs": [
    {
     "name": "stdout",
     "output_type": "stream",
     "text": [
      "10\n",
      "20\n",
      "13.333333333333334\n"
     ]
    }
   ],
   "source": [
    "#default arguments\n",
    "def numb(x,y,z=10): #name\n",
    "    add=x+y+z   #body\n",
    "    avg=add/3\n",
    "    return(avg)\n",
    "\n",
    "rl1=int(input())\n",
    "rl2=int(input())\n",
    "#rl3=int(input())\n",
    "\n",
    "num1=numb(rl1,rl2) #call funtion\n",
    "print(num1)\n"
   ]
  },
  {
   "cell_type": "markdown",
   "metadata": {},
   "source": [
    "#local Variable"
   ]
  },
  {
   "cell_type": "code",
   "execution_count": 11,
   "metadata": {},
   "outputs": [
    {
     "name": "stdout",
     "output_type": "stream",
     "text": [
      "value of x is :  10\n",
      "value of x is :  5\n"
     ]
    }
   ],
   "source": [
    "def fnc1():\n",
    "    x=5\n",
    "    print(\"value of x is : \",x)\n",
    "def fnc2():\n",
    "    x=10\n",
    "    print(\"value of x is : \",x)\n",
    "    fnc1()\n",
    "\n",
    "fnc2()"
   ]
  },
  {
   "cell_type": "code",
   "execution_count": 16,
   "metadata": {},
   "outputs": [
    {
     "name": "stdout",
     "output_type": "stream",
     "text": [
      "value of x is :  17\n",
      "value of x is :  12\n",
      "10\n"
     ]
    }
   ],
   "source": [
    "#global variable\n",
    "x=10\n",
    "def fnc1():\n",
    "    x=12\n",
    "    print(\"value of x is : \",x)\n",
    "def fnc2():\n",
    "    x=17\n",
    "    print(\"value of x is : \",x)\n",
    "    fnc1()\n",
    "\n",
    "fnc2()\n",
    "print(x)"
   ]
  },
  {
   "cell_type": "code",
   "execution_count": 13,
   "metadata": {},
   "outputs": [
    {
     "ename": "TypeError",
     "evalue": "avg() takes 4 positional arguments but 8 were given",
     "output_type": "error",
     "traceback": [
      "\u001b[1;31m---------------------------------------------------------------------------\u001b[0m",
      "\u001b[1;31mTypeError\u001b[0m                                 Traceback (most recent call last)",
      "\u001b[1;32m<ipython-input-13-97924d959db7>\u001b[0m in \u001b[0;36m<module>\u001b[1;34m()\u001b[0m\n\u001b[0;32m      5\u001b[0m \u001b[1;33m\u001b[0m\u001b[0m\n\u001b[0;32m      6\u001b[0m \u001b[1;33m\u001b[0m\u001b[0m\n\u001b[1;32m----> 7\u001b[1;33m \u001b[0mr\u001b[0m\u001b[1;33m=\u001b[0m\u001b[0mavg\u001b[0m\u001b[1;33m(\u001b[0m\u001b[1;34m\"ali\"\u001b[0m\u001b[1;33m,\u001b[0m\u001b[1;36m1\u001b[0m\u001b[1;33m,\u001b[0m\u001b[1;36m23\u001b[0m\u001b[1;33m,\u001b[0m\u001b[1;36m4\u001b[0m\u001b[1;33m,\u001b[0m\u001b[1;36m5\u001b[0m\u001b[1;33m,\u001b[0m\u001b[1;36m6\u001b[0m\u001b[1;33m,\u001b[0m\u001b[1;36m55\u001b[0m\u001b[1;33m,\u001b[0m\u001b[1;36m43\u001b[0m\u001b[1;33m)\u001b[0m\u001b[1;33m\u001b[0m\u001b[0m\n\u001b[0m\u001b[0;32m      8\u001b[0m \u001b[1;33m\u001b[0m\u001b[0m\n",
      "\u001b[1;31mTypeError\u001b[0m: avg() takes 4 positional arguments but 8 were given"
     ]
    }
   ],
   "source": [
    "#positional arguments (*)\n",
    "def avg(name,x,y,z):\n",
    "    add=(x+y+z)/3\n",
    "    print(\"name is : \"+name+ \"marks:\"+str(add))\n",
    "\n",
    "    \n",
    "r=avg(\"ali\",1,23,4,5,6,55,43)\n",
    "    "
   ]
  },
  {
   "cell_type": "code",
   "execution_count": 12,
   "metadata": {},
   "outputs": [
    {
     "name": "stdout",
     "output_type": "stream",
     "text": [
      "name is : ali and marks:19.571428571428573\n"
     ]
    }
   ],
   "source": [
    "# solution of positional arguments\n",
    "def avg(name,*opt):\n",
    "    add=sum(opt)/len(opt)\n",
    "    print(\"name is : \"+name+\" and \" \"marks:\"+str(add))\n",
    "\n",
    "    \n",
    "r=avg(\"ali\",1,23,4,5,6,55,43)\n"
   ]
  },
  {
   "cell_type": "code",
   "execution_count": 30,
   "metadata": {},
   "outputs": [
    {
     "name": "stdout",
     "output_type": "stream",
     "text": [
      "winner is pak\n",
      "score is: 332\n"
     ]
    }
   ],
   "source": [
    "# keyword orguments\n",
    "def status(winner,score,**other_info):\n",
    "    print(\"winner is \"+winner)\n",
    "    print(\"score is: \"+score)\n",
    "    \n",
    "status(winner=\"pak\",score=\"332\",overtime=\"5 mint\",injuries=\"multipple\")\n",
    "    "
   ]
  },
  {
   "cell_type": "code",
   "execution_count": null,
   "metadata": {},
   "outputs": [],
   "source": [
    "\n",
    "\n",
    "\n",
    "\n",
    "\n",
    "\n",
    "\n"
   ]
  }
 ],
 "metadata": {
  "kernelspec": {
   "display_name": "Python 3",
   "language": "python",
   "name": "python3"
  },
  "language_info": {
   "codemirror_mode": {
    "name": "ipython",
    "version": 3
   },
   "file_extension": ".py",
   "mimetype": "text/x-python",
   "name": "python",
   "nbconvert_exporter": "python",
   "pygments_lexer": "ipython3",
   "version": "3.7.0"
  }
 },
 "nbformat": 4,
 "nbformat_minor": 2
}
