{
 "cells": [
  {
   "cell_type": "markdown",
   "metadata": {},
   "source": [
    "# try / except\n",
    "num1=input(\"enter your number:\")\n",
    "num2=input(\"enter your number:\")\n",
    "print(\"The sum of these number is :\",int(num1)+int(num2))\n",
    " \n",
    "print(\"retry again with integers\")\n",
    "\n"
   ]
  },
  {
   "cell_type": "code",
   "execution_count": 5,
   "metadata": {},
   "outputs": [
    {
     "name": "stdout",
     "output_type": "stream",
     "text": [
      "enter your number:12\n",
      "enter your number:ss\n",
      "invalid literal for int() with base 10: 'ss'\n",
      "try again with integers with integers\n"
     ]
    }
   ],
   "source": [
    "num1=input(\"enter your number:\")\n",
    "num2=input(\"enter your number:\")\n",
    "try:\n",
    "    print(\"The sum of these number is :\",\n",
    "         int(num1)+int(num2))\n",
    "except Exception as e:\n",
    "    print(e)\n",
    "print(\"try number \")\n",
    "    \n"
   ]
  },
  {
   "cell_type": "markdown",
   "metadata": {},
   "source": [
    "# File i/o "
   ]
  },
  {
   "cell_type": "markdown",
   "metadata": {},
   "source": [
    "## '''\n",
    "\"r\"- open and read file\n",
    "\"w\"-open and write file\n",
    "\"x\"- create file if not exist\n",
    "\"t\"-text mode\n",
    "\"b\"- binary mode\n",
    "\"+\" read and write mode\n",
    "'''"
   ]
  },
  {
   "cell_type": "code",
   "execution_count": 56,
   "metadata": {},
   "outputs": [
    {
     "name": "stdout",
     "output_type": "stream",
     "text": [
      "i am planning to go to karachi\n",
      "\n"
     ]
    }
   ],
   "source": [
    "file1= open(\"zulkifel.txt\",\"r\")\n",
    "content=file1.read()\n",
    "print(content)\n",
    "file1.close()"
   ]
  },
  {
   "cell_type": "code",
   "execution_count": 19,
   "metadata": {},
   "outputs": [
    {
     "name": "stdout",
     "output_type": "stream",
     "text": [
      "ulkifel.\n",
      "i am from chitr\n"
     ]
    }
   ],
   "source": [
    "file1= open(\"zulkifel.txt\",\"r\")\n",
    "content=file1.read(12)\n",
    "content=file1.read(24)\n",
    "print(content)\n",
    "file1.close()"
   ]
  },
  {
   "cell_type": "code",
   "execution_count": 55,
   "metadata": {},
   "outputs": [
    {
     "name": "stdout",
     "output_type": "stream",
     "text": [
      "i\n",
      " \n",
      "a\n",
      "m\n",
      " \n",
      "p\n",
      "l\n",
      "a\n",
      "n\n",
      "n\n",
      "i\n",
      "n\n",
      "g\n",
      " \n",
      "t\n",
      "o\n",
      " \n",
      "g\n",
      "o\n",
      " \n",
      "t\n",
      "o\n",
      " \n",
      "k\n",
      "a\n",
      "r\n",
      "a\n",
      "c\n",
      "h\n",
      "i\n",
      "\n",
      "\n"
     ]
    }
   ],
   "source": [
    "#character by character\n",
    "file1= open(\"zulkifel.txt\",\"r\")\n",
    "content=file1.read()\n",
    "for l in content:\n",
    "    print(l)\n",
    "file1.close()"
   ]
  },
  {
   "cell_type": "code",
   "execution_count": 54,
   "metadata": {},
   "outputs": [
    {
     "name": "stdout",
     "output_type": "stream",
     "text": [
      "i am planning to go to karachi\n"
     ]
    }
   ],
   "source": [
    "file1= open(\"zulkifel.txt\",\"r\")\n",
    "#content=file1.read()\n",
    "for l in file1:\n",
    "    print(l,end=\"\")\n",
    "file1.close()"
   ]
  },
  {
   "cell_type": "code",
   "execution_count": 53,
   "metadata": {},
   "outputs": [
    {
     "name": "stdout",
     "output_type": "stream",
     "text": [
      "i am planning to go to karachi\n",
      "\n"
     ]
    }
   ],
   "source": [
    "file1= open(\"zulkifel.txt\",\"r\")\n",
    "#content=file1.read()\n",
    "for l in file1:\n",
    "    print(l)\n",
    "file1.close()"
   ]
  },
  {
   "cell_type": "code",
   "execution_count": 52,
   "metadata": {},
   "outputs": [
    {
     "name": "stdout",
     "output_type": "stream",
     "text": [
      "['i am planning to go to karachi\\n']\n"
     ]
    }
   ],
   "source": [
    "file1= open(\"zulkifel.txt\",\"r\")\n",
    "content=file1.readlines(15)\n",
    "print(content)\n",
    "file1.close()"
   ]
  },
  {
   "cell_type": "code",
   "execution_count": 44,
   "metadata": {},
   "outputs": [
    {
     "name": "stdout",
     "output_type": "stream",
     "text": [
      "my name is zulkifel.\n",
      "\n",
      "i am from chitral.\n",
      "\n",
      "now a days i am living in islamabad.\n",
      "\n"
     ]
    }
   ],
   "source": [
    "file1= open(\"zulkifel.txt\",\"r\")\n",
    "print(file1.readline())\n",
    "print(file1.readline())\n",
    "print(file1.readline())\n",
    "file1.close()"
   ]
  },
  {
   "cell_type": "code",
   "execution_count": 84,
   "metadata": {},
   "outputs": [],
   "source": [
    "# for witing\n",
    "file1= open(\"zulkifel.txt\",'w')\n",
    "file1.write(\"i am planning to go to karachi\\n karachi is the biggest city of pakistan\\n\")\n",
    "\n",
    "\n",
    "file1.close()\n"
   ]
  },
  {
   "cell_type": "code",
   "execution_count": 90,
   "metadata": {},
   "outputs": [],
   "source": [
    "file1= open(\"zulkifel.txt\",'a')\n",
    "file1.write(\"i'll enjoy the weather of karachi\\n the dishes of karachi\\n\")\n",
    "\n",
    "\n",
    "file1.close()"
   ]
  },
  {
   "cell_type": "code",
   "execution_count": 91,
   "metadata": {},
   "outputs": [
    {
     "name": "stdout",
     "output_type": "stream",
     "text": [
      "i'll enjoy the weathe of karachi\n",
      " the dishes of karachi\n",
      " it was the old capital of pakistanistan karachi\n",
      " the dishes of karachi\n",
      "i'll enjoy the weathe of karachi\n",
      " the dishes of karachi\n",
      " it was the old capital of pakistani'll enjoy the weathe of karachi\n",
      " the dishes of karachi\n",
      " it was the old capital of pakistani'll enjoy the weather of karachi\n",
      " the dishes of karachi\n",
      "\n"
     ]
    }
   ],
   "source": [
    "#r+\n",
    "file1= open(\"zulkifel.txt\",'r+')\n",
    "print(file1.read())\n",
    "file1.write(\"i'll enjoy the weather of karachi\\n the dishes of karachi\\n it was the old capital of pakistan\")\n",
    "\n",
    "file1.close()\n"
   ]
  },
  {
   "cell_type": "code",
   "execution_count": null,
   "metadata": {},
   "outputs": [],
   "source": []
  }
 ],
 "metadata": {
  "kernelspec": {
   "display_name": "Python 3",
   "language": "python",
   "name": "python3"
  },
  "language_info": {
   "codemirror_mode": {
    "name": "ipython",
    "version": 3
   },
   "file_extension": ".py",
   "mimetype": "text/x-python",
   "name": "python",
   "nbconvert_exporter": "python",
   "pygments_lexer": "ipython3",
   "version": "3.7.0"
  }
 },
 "nbformat": 4,
 "nbformat_minor": 2
}
